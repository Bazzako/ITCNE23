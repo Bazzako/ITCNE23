{
 "cells": [
  {
   "cell_type": "markdown",
   "metadata": {
    "collapsed": false
   },
   "source": [
    "# FAAS Modul TBZ - Selbstevaluation"
   ]
  },
  {
   "cell_type": "markdown",
   "metadata": {
    "collapsed": false
   },
   "source": [
    "## 0. Print your name\n",
    "\n",
    "Starten wir einfach: Gib deinen Namen und das aktuelle Datum (ohne Uhrzeit, im \"schweizer Format\") aus."
   ]
  },
  {
   "cell_type": "code",
   "execution_count": 70,
   "metadata": {
    "collapsed": false
   },
   "outputs": [
    {
     "name": "stdout",
     "output_type": "stream",
     "text": [
      "Dennis Buathong 08.11.2023\n"
     ]
    }
   ],
   "source": [
    "from datetime import date\n",
    "\n",
    "today = date.today()\n",
    "\n",
    "day = today.strftime(\"%d.%m.%Y\")\n",
    "Name = \"Dennis Buathong\"\n",
    "print(Name, day)"
   ]
  },
  {
   "cell_type": "markdown",
   "metadata": {
    "collapsed": false
   },
   "source": [
    "## 1. Loops and arrays\n",
    "\n",
    "Schreibe einen Code, der den nachfolgenden Output generiert:\n",
    "\n",
    "\n",
    "```python\n",
    "[0, 1, 4, 9, 16, 25, 36, 49, 64, 81]\n",
    "```\n",
    "\n"
   ]
  },
  {
   "cell_type": "code",
   "execution_count": 29,
   "metadata": {
    "collapsed": false
   },
   "outputs": [
    {
     "name": "stdout",
     "output_type": "stream",
     "text": [
      "[0, 1, 4, 9, 16, 25, 36, 49, 64, 81]\n"
     ]
    }
   ],
   "source": [
    "output= [0]\n",
    "oddnumber = list(range(1, 18)[::2])\n",
    "for number in oddnumber:\n",
    "    output.append(output[-1] + number)\n",
    "\n",
    "print(output)"
   ]
  },
  {
   "cell_type": "markdown",
   "metadata": {
    "collapsed": false
   },
   "source": [
    "## 2. Strings, chars and loops\n",
    "\n",
    "Schreibe einen Code, der für den String `Function As A Service` den Index für alle Grossbuchstaben zurück gibt."
   ]
  },
  {
   "cell_type": "code",
   "execution_count": 12,
   "metadata": {
    "collapsed": false
   },
   "outputs": [
    {
     "name": "stdout",
     "output_type": "stream",
     "text": [
      "[0, 9, 12, 14]\n"
     ]
    }
   ],
   "source": [
    "Input = \"Function As A Service\"\n",
    "only_upper = [char for char in range(len(Input)) if Input[char].isupper()]\n",
    "print(only_upper)"
   ]
  },
  {
   "cell_type": "code",
   "execution_count": 71,
   "metadata": {},
   "outputs": [
    {
     "data": {
      "text/plain": [
       "[0, 9, 12, 14]"
      ]
     },
     "execution_count": 71,
     "metadata": {},
     "output_type": "execute_result"
    }
   ],
   "source": [
    "[index for index,Upper in enumerate(\"Funciton As A Service\") if Upper.isupper() ]"
   ]
  },
  {
   "cell_type": "markdown",
   "metadata": {
    "collapsed": false
   },
   "source": [
    "## 3. Output formatieren\n",
    "\n",
    "Schreibe einen Code der die Zahl (Input) `4194304` `\"4'194'304\"` zurück gibt (Nummer als String mit Tausendertrennzeichen)."
   ]
  },
  {
   "cell_type": "code",
   "execution_count": 72,
   "metadata": {
    "collapsed": false
   },
   "outputs": [
    {
     "data": {
      "text/plain": [
       "\"4'194'304\""
      ]
     },
     "execution_count": 72,
     "metadata": {},
     "output_type": "execute_result"
    }
   ],
   "source": [
    "'{:,}' .format(4194304).replace(',', \"'\")\n"
   ]
  },
  {
   "cell_type": "markdown",
   "metadata": {
    "collapsed": false
   },
   "source": [
    "## 4. JSON, HTTP API\n",
    "\n",
    "Schreibe eine Funktion, der die aktuelle ATIS Frequenz des Flughafens \"LSZH\" mithilfe der Api [https://aviationweather.gov/data/api](https://aviationweather.gov/data/api) zurück gibt."
   ]
  },
  {
   "cell_type": "code",
   "execution_count": 82,
   "metadata": {
    "collapsed": false
   },
   "outputs": [
    {
     "ename": "IndentationError",
     "evalue": "expected an indented block after function definition on line 1 (2832770295.py, line 2)",
     "output_type": "error",
     "traceback": [
      "\u001b[1;36m  Cell \u001b[1;32mIn[82], line 2\u001b[1;36m\u001b[0m\n\u001b[1;33m    import requests\u001b[0m\n\u001b[1;37m    ^\u001b[0m\n\u001b[1;31mIndentationError\u001b[0m\u001b[1;31m:\u001b[0m expected an indented block after function definition on line 1\n"
     ]
    }
   ],
   "source": [
    "def get_atis_freq_for_aiport(icao_code):\n",
    "import requests\n",
    "\n",
    "airportdata = requests.get(f\"https://aviationweather.gov/api/data/airport?ids={icao_code}&format=json\")\n",
    "return response[0]['freqs'][(type == 'atis')]['freq']\n",
    "    # Go into List with [0] search for type atis and return freq\n",
    "\n",
    "print(f'ATIS frequency for LSZH: {get_atis_freq_for_aiport(\"LSZH\")} MHz')"
   ]
  },
  {
   "cell_type": "markdown",
   "metadata": {
    "collapsed": false
   },
   "source": [
    "## 5. Objektorientiert\n",
    "\n",
    "Ziel ist es das Spiel TicTacToe in einer Klasse zu implementieren.\n",
    "Der Code sollte in der Lage sein:\n",
    "- Den Spielstand abzubilden\n",
    "- Den Spielstand auszugeben\n",
    "- Feststellen, ob jemand gewonnen hat und wer.\n",
    "\n",
    "Verwende dafür das Gerüst unten. Mithilfe der Testskriptes, kannst du überprüfen, ob deine Implementation korrekt funktioniert."
   ]
  },
  {
   "cell_type": "code",
   "execution_count": null,
   "metadata": {
    "collapsed": false
   },
   "outputs": [],
   "source": [
    "class TicTacToe:\n",
    "    # Your solution here\n",
    "    pass"
   ]
  },
  {
   "cell_type": "markdown",
   "metadata": {
    "collapsed": false
   },
   "source": [
    "### TicTacToe: Test code"
   ]
  },
  {
   "cell_type": "code",
   "execution_count": null,
   "metadata": {
    "collapsed": false
   },
   "outputs": [],
   "source": [
    "ticGame = TicTacToe()\n",
    "\n",
    "testGames = [\n",
    "    {'res': False, 'steps': [['x',1,1], ['o',0,1], ['x', 0,0], ['o', 2, 2]]},\n",
    "    {'res': 'X', 'steps': [['x',1,1], ['o',0,1], ['x', 0,0], ['x', 2, 2]]},\n",
    "    {'res': False, 'steps': [['o',1,1], ['o',0,1], ['o', 0,0], ['x', 2, 2]]},\n",
    "    {'res': 'X', 'steps': [['X', 0, 0], ['X', 2, 0], ['O', 1, 1], ['X', 2, 1], ['X', 2, 2]]},\n",
    "    {'res': False, 'steps': [['X', 0, 0], ['O', 0, 1], ['X', 0, 2], ['X', 1, 0], ['O', 1, 1], ['O', 1, 2], ['O', 2, 0], ['X', 2, 1], ['X', 2, 2]]},\n",
    "    {'res': False, 'steps': [['X', 0, 0], ['O', 0, 1], ['X', 0, 2], ['X', 1, 0], ['O', 1, 1], ['O', 1, 2], ['O', 2, 0], ['X', 2, 1], ['X', 2, 2]]},\n",
    "    {'res': 'O', 'steps': [['X', 1, 0], ['X', 1, 1], ['O', 0, 2], ['O', 1, 2], ['O', 2, 2]]},\n",
    "    {'res': False, 'steps': [['X', 1, 0], ['O', 1, 1], ['O', 0, 2], ['X', 1, 2], ['O', 2, 2]]},\n",
    "    {'res': 'O', 'steps': [['X', 0, 0], ['X', 1, 0], ['O', 2, 0], ['O', 1, 1], ['O', 0, 2], ['X', 1, 2], ['O', 2, 2]]}\n",
    "]\n",
    "\n",
    "num_of_successful_tests = 0\n",
    "\n",
    "for game in testGames:\n",
    "    ticGame.reset()\n",
    "    for step in game['steps']:\n",
    "        ticGame.set(step[0], step[1], step[2])\n",
    "    shouldBeWinGame = not (game[\"res\"] is False)\n",
    "    if (shouldBeWinGame and ticGame.has_winner() and ticGame.get_winner() == game['res']) \\\n",
    "        or (not shouldBeWinGame and not ticGame.has_winner()):\n",
    "        num_of_successful_tests += 1\n",
    "    else:\n",
    "        print(ticGame)\n",
    "        print(f\"Failure with game {game}\")\n",
    "\n",
    "if len(testGames) == num_of_successful_tests:\n",
    "    print(\"All test games successful\")\n",
    "else:\n",
    "    print(f'{len(testGames) - num_of_successful_tests} tests failed (of total {len(testGames)}')\n"
   ]
  },
  {
   "cell_type": "markdown",
   "metadata": {
    "collapsed": false
   },
   "source": [
    "## 6. In der Kürze liegt die Würze - Einzeiler\n",
    "\n",
    "Falls deine Lösung der Aufgaben 0 bis 3 mehr als nur eine Zeile Code sind: Optimiere deinen Code, sodass er jeweils nur noch aus einer Zeile besteht."
   ]
  }
 ],
 "metadata": {
  "kernelspec": {
   "display_name": "Python 3",
   "language": "python",
   "name": "python3"
  },
  "language_info": {
   "codemirror_mode": {
    "name": "ipython",
    "version": 3
   },
   "file_extension": ".py",
   "mimetype": "text/x-python",
   "name": "python",
   "nbconvert_exporter": "python",
   "pygments_lexer": "ipython3",
   "version": "3.11.6"
  }
 },
 "nbformat": 4,
 "nbformat_minor": 0
}
